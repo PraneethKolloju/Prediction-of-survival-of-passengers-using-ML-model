{
  "nbformat": 4,
  "nbformat_minor": 0,
  "metadata": {
    "colab": {
      "name": "Titanic.ipynb",
      "provenance": []
    },
    "kernelspec": {
      "name": "python3",
      "display_name": "Python 3"
    },
    "language_info": {
      "name": "python"
    }
  },
  "cells": [
    {
      "cell_type": "code",
      "metadata": {
        "id": "mARB-XN5v5Vl"
      },
      "source": [
        "import pandas as pd\n",
        "import matplotlib.pyplot as plt\n",
        "import numpy as np\n"
      ],
      "execution_count": 207,
      "outputs": []
    },
    {
      "cell_type": "code",
      "metadata": {
        "id": "TSZG2N1WwLt8"
      },
      "source": [
        "train=pd.read_csv('train.csv')\n",
        "test=pd.read_csv('test.csv')"
      ],
      "execution_count": 208,
      "outputs": []
    },
    {
      "cell_type": "code",
      "metadata": {
        "colab": {
          "base_uri": "https://localhost:8080/",
          "height": 340
        },
        "id": "fO6kHgjCwXCa",
        "outputId": "668cb545-183c-45e7-d786-3dd060182879"
      },
      "source": [
        "train.head()"
      ],
      "execution_count": 209,
      "outputs": [
        {
          "output_type": "execute_result",
          "data": {
            "text/html": [
              "<div>\n",
              "<style scoped>\n",
              "    .dataframe tbody tr th:only-of-type {\n",
              "        vertical-align: middle;\n",
              "    }\n",
              "\n",
              "    .dataframe tbody tr th {\n",
              "        vertical-align: top;\n",
              "    }\n",
              "\n",
              "    .dataframe thead th {\n",
              "        text-align: right;\n",
              "    }\n",
              "</style>\n",
              "<table border=\"1\" class=\"dataframe\">\n",
              "  <thead>\n",
              "    <tr style=\"text-align: right;\">\n",
              "      <th></th>\n",
              "      <th>PassengerId</th>\n",
              "      <th>Survived</th>\n",
              "      <th>Pclass</th>\n",
              "      <th>Name</th>\n",
              "      <th>Sex</th>\n",
              "      <th>Age</th>\n",
              "      <th>SibSp</th>\n",
              "      <th>Parch</th>\n",
              "      <th>Ticket</th>\n",
              "      <th>Fare</th>\n",
              "      <th>Cabin</th>\n",
              "      <th>Embarked</th>\n",
              "    </tr>\n",
              "  </thead>\n",
              "  <tbody>\n",
              "    <tr>\n",
              "      <th>0</th>\n",
              "      <td>1</td>\n",
              "      <td>0</td>\n",
              "      <td>3</td>\n",
              "      <td>Braund, Mr. Owen Harris</td>\n",
              "      <td>male</td>\n",
              "      <td>22.0</td>\n",
              "      <td>1</td>\n",
              "      <td>0</td>\n",
              "      <td>A/5 21171</td>\n",
              "      <td>7.2500</td>\n",
              "      <td>NaN</td>\n",
              "      <td>S</td>\n",
              "    </tr>\n",
              "    <tr>\n",
              "      <th>1</th>\n",
              "      <td>2</td>\n",
              "      <td>1</td>\n",
              "      <td>1</td>\n",
              "      <td>Cumings, Mrs. John Bradley (Florence Briggs Th...</td>\n",
              "      <td>female</td>\n",
              "      <td>38.0</td>\n",
              "      <td>1</td>\n",
              "      <td>0</td>\n",
              "      <td>PC 17599</td>\n",
              "      <td>71.2833</td>\n",
              "      <td>C85</td>\n",
              "      <td>C</td>\n",
              "    </tr>\n",
              "    <tr>\n",
              "      <th>2</th>\n",
              "      <td>3</td>\n",
              "      <td>1</td>\n",
              "      <td>3</td>\n",
              "      <td>Heikkinen, Miss. Laina</td>\n",
              "      <td>female</td>\n",
              "      <td>26.0</td>\n",
              "      <td>0</td>\n",
              "      <td>0</td>\n",
              "      <td>STON/O2. 3101282</td>\n",
              "      <td>7.9250</td>\n",
              "      <td>NaN</td>\n",
              "      <td>S</td>\n",
              "    </tr>\n",
              "    <tr>\n",
              "      <th>3</th>\n",
              "      <td>4</td>\n",
              "      <td>1</td>\n",
              "      <td>1</td>\n",
              "      <td>Futrelle, Mrs. Jacques Heath (Lily May Peel)</td>\n",
              "      <td>female</td>\n",
              "      <td>35.0</td>\n",
              "      <td>1</td>\n",
              "      <td>0</td>\n",
              "      <td>113803</td>\n",
              "      <td>53.1000</td>\n",
              "      <td>C123</td>\n",
              "      <td>S</td>\n",
              "    </tr>\n",
              "    <tr>\n",
              "      <th>4</th>\n",
              "      <td>5</td>\n",
              "      <td>0</td>\n",
              "      <td>3</td>\n",
              "      <td>Allen, Mr. William Henry</td>\n",
              "      <td>male</td>\n",
              "      <td>35.0</td>\n",
              "      <td>0</td>\n",
              "      <td>0</td>\n",
              "      <td>373450</td>\n",
              "      <td>8.0500</td>\n",
              "      <td>NaN</td>\n",
              "      <td>S</td>\n",
              "    </tr>\n",
              "  </tbody>\n",
              "</table>\n",
              "</div>"
            ],
            "text/plain": [
              "   PassengerId  Survived  Pclass  ...     Fare Cabin  Embarked\n",
              "0            1         0       3  ...   7.2500   NaN         S\n",
              "1            2         1       1  ...  71.2833   C85         C\n",
              "2            3         1       3  ...   7.9250   NaN         S\n",
              "3            4         1       1  ...  53.1000  C123         S\n",
              "4            5         0       3  ...   8.0500   NaN         S\n",
              "\n",
              "[5 rows x 12 columns]"
            ]
          },
          "metadata": {},
          "execution_count": 209
        }
      ]
    },
    {
      "cell_type": "code",
      "metadata": {
        "colab": {
          "base_uri": "https://localhost:8080/"
        },
        "id": "HrpG4nhhwaN4",
        "outputId": "5c6bba66-416f-49e0-f462-b77f7036dda1"
      },
      "source": [
        "(train.isnull().sum()/len(train))*100"
      ],
      "execution_count": 210,
      "outputs": [
        {
          "output_type": "execute_result",
          "data": {
            "text/plain": [
              "PassengerId     0.000000\n",
              "Survived        0.000000\n",
              "Pclass          0.000000\n",
              "Name            0.000000\n",
              "Sex             0.000000\n",
              "Age            19.865320\n",
              "SibSp           0.000000\n",
              "Parch           0.000000\n",
              "Ticket          0.000000\n",
              "Fare            0.000000\n",
              "Cabin          77.104377\n",
              "Embarked        0.224467\n",
              "dtype: float64"
            ]
          },
          "metadata": {},
          "execution_count": 210
        }
      ]
    },
    {
      "cell_type": "code",
      "metadata": {
        "id": "hwR-nB0ywh1b"
      },
      "source": [
        "train=train.drop(['Cabin','Name'],axis=1)"
      ],
      "execution_count": 211,
      "outputs": []
    },
    {
      "cell_type": "code",
      "metadata": {
        "id": "dMtDRwek0EKS"
      },
      "source": [
        "test=test.drop(['Cabin','Name'],axis=1)"
      ],
      "execution_count": 212,
      "outputs": []
    },
    {
      "cell_type": "code",
      "metadata": {
        "colab": {
          "base_uri": "https://localhost:8080/"
        },
        "id": "vKxj_3oPwuww",
        "outputId": "550d740c-4d63-4dc1-b627-376914c947dd"
      },
      "source": [
        "train['Embarked'].unique()"
      ],
      "execution_count": 213,
      "outputs": [
        {
          "output_type": "execute_result",
          "data": {
            "text/plain": [
              "array(['S', 'C', 'Q', nan], dtype=object)"
            ]
          },
          "metadata": {},
          "execution_count": 213
        }
      ]
    },
    {
      "cell_type": "code",
      "metadata": {
        "id": "IQjY4_32w8qI"
      },
      "source": [
        "train['Age']=train['Age'].fillna(train['Age'].mean())"
      ],
      "execution_count": 214,
      "outputs": []
    },
    {
      "cell_type": "code",
      "metadata": {
        "id": "B2Jvp8y0xKFK"
      },
      "source": [
        "train['Embarked']=train['Embarked'].fillna('None')"
      ],
      "execution_count": 215,
      "outputs": []
    },
    {
      "cell_type": "code",
      "metadata": {
        "id": "W8RihYUT0qYw"
      },
      "source": [
        "for i in test:\n",
        "  if test[i].isnull().sum()!=0:\n",
        "    if test[i].dtypes==object:\n",
        "      test[i]=test[i].fillna('None')\n",
        "    else:\n",
        "      test[i]=test[i].fillna(test[i].mean())\n"
      ],
      "execution_count": 216,
      "outputs": []
    },
    {
      "cell_type": "code",
      "metadata": {
        "colab": {
          "base_uri": "https://localhost:8080/"
        },
        "id": "zqN64MDaxf9m",
        "outputId": "26a2383c-8581-4dfc-971c-094df89b002a"
      },
      "source": [
        "train['Embarked'].isnull().sum()"
      ],
      "execution_count": 217,
      "outputs": [
        {
          "output_type": "execute_result",
          "data": {
            "text/plain": [
              "0"
            ]
          },
          "metadata": {},
          "execution_count": 217
        }
      ]
    },
    {
      "cell_type": "code",
      "metadata": {
        "id": "RbxyIElLxtoY"
      },
      "source": [
        "ytrain=train['Survived']"
      ],
      "execution_count": 218,
      "outputs": []
    },
    {
      "cell_type": "code",
      "metadata": {
        "id": "iJC4xY8B1uZJ"
      },
      "source": [
        "test_id=test['PassengerId']"
      ],
      "execution_count": 219,
      "outputs": []
    },
    {
      "cell_type": "code",
      "metadata": {
        "id": "wKg_GO9m23NO"
      },
      "source": [
        "xpred=train['Survived']"
      ],
      "execution_count": 220,
      "outputs": []
    },
    {
      "cell_type": "code",
      "metadata": {
        "colab": {
          "base_uri": "https://localhost:8080/",
          "height": 419
        },
        "id": "5puiLCEPyQ9Y",
        "outputId": "7e0db5f8-c565-4f62-9b30-588cc73cef5c"
      },
      "source": [
        "train"
      ],
      "execution_count": 221,
      "outputs": [
        {
          "output_type": "execute_result",
          "data": {
            "text/html": [
              "<div>\n",
              "<style scoped>\n",
              "    .dataframe tbody tr th:only-of-type {\n",
              "        vertical-align: middle;\n",
              "    }\n",
              "\n",
              "    .dataframe tbody tr th {\n",
              "        vertical-align: top;\n",
              "    }\n",
              "\n",
              "    .dataframe thead th {\n",
              "        text-align: right;\n",
              "    }\n",
              "</style>\n",
              "<table border=\"1\" class=\"dataframe\">\n",
              "  <thead>\n",
              "    <tr style=\"text-align: right;\">\n",
              "      <th></th>\n",
              "      <th>PassengerId</th>\n",
              "      <th>Survived</th>\n",
              "      <th>Pclass</th>\n",
              "      <th>Sex</th>\n",
              "      <th>Age</th>\n",
              "      <th>SibSp</th>\n",
              "      <th>Parch</th>\n",
              "      <th>Ticket</th>\n",
              "      <th>Fare</th>\n",
              "      <th>Embarked</th>\n",
              "    </tr>\n",
              "  </thead>\n",
              "  <tbody>\n",
              "    <tr>\n",
              "      <th>0</th>\n",
              "      <td>1</td>\n",
              "      <td>0</td>\n",
              "      <td>3</td>\n",
              "      <td>male</td>\n",
              "      <td>22.000000</td>\n",
              "      <td>1</td>\n",
              "      <td>0</td>\n",
              "      <td>A/5 21171</td>\n",
              "      <td>7.2500</td>\n",
              "      <td>S</td>\n",
              "    </tr>\n",
              "    <tr>\n",
              "      <th>1</th>\n",
              "      <td>2</td>\n",
              "      <td>1</td>\n",
              "      <td>1</td>\n",
              "      <td>female</td>\n",
              "      <td>38.000000</td>\n",
              "      <td>1</td>\n",
              "      <td>0</td>\n",
              "      <td>PC 17599</td>\n",
              "      <td>71.2833</td>\n",
              "      <td>C</td>\n",
              "    </tr>\n",
              "    <tr>\n",
              "      <th>2</th>\n",
              "      <td>3</td>\n",
              "      <td>1</td>\n",
              "      <td>3</td>\n",
              "      <td>female</td>\n",
              "      <td>26.000000</td>\n",
              "      <td>0</td>\n",
              "      <td>0</td>\n",
              "      <td>STON/O2. 3101282</td>\n",
              "      <td>7.9250</td>\n",
              "      <td>S</td>\n",
              "    </tr>\n",
              "    <tr>\n",
              "      <th>3</th>\n",
              "      <td>4</td>\n",
              "      <td>1</td>\n",
              "      <td>1</td>\n",
              "      <td>female</td>\n",
              "      <td>35.000000</td>\n",
              "      <td>1</td>\n",
              "      <td>0</td>\n",
              "      <td>113803</td>\n",
              "      <td>53.1000</td>\n",
              "      <td>S</td>\n",
              "    </tr>\n",
              "    <tr>\n",
              "      <th>4</th>\n",
              "      <td>5</td>\n",
              "      <td>0</td>\n",
              "      <td>3</td>\n",
              "      <td>male</td>\n",
              "      <td>35.000000</td>\n",
              "      <td>0</td>\n",
              "      <td>0</td>\n",
              "      <td>373450</td>\n",
              "      <td>8.0500</td>\n",
              "      <td>S</td>\n",
              "    </tr>\n",
              "    <tr>\n",
              "      <th>...</th>\n",
              "      <td>...</td>\n",
              "      <td>...</td>\n",
              "      <td>...</td>\n",
              "      <td>...</td>\n",
              "      <td>...</td>\n",
              "      <td>...</td>\n",
              "      <td>...</td>\n",
              "      <td>...</td>\n",
              "      <td>...</td>\n",
              "      <td>...</td>\n",
              "    </tr>\n",
              "    <tr>\n",
              "      <th>886</th>\n",
              "      <td>887</td>\n",
              "      <td>0</td>\n",
              "      <td>2</td>\n",
              "      <td>male</td>\n",
              "      <td>27.000000</td>\n",
              "      <td>0</td>\n",
              "      <td>0</td>\n",
              "      <td>211536</td>\n",
              "      <td>13.0000</td>\n",
              "      <td>S</td>\n",
              "    </tr>\n",
              "    <tr>\n",
              "      <th>887</th>\n",
              "      <td>888</td>\n",
              "      <td>1</td>\n",
              "      <td>1</td>\n",
              "      <td>female</td>\n",
              "      <td>19.000000</td>\n",
              "      <td>0</td>\n",
              "      <td>0</td>\n",
              "      <td>112053</td>\n",
              "      <td>30.0000</td>\n",
              "      <td>S</td>\n",
              "    </tr>\n",
              "    <tr>\n",
              "      <th>888</th>\n",
              "      <td>889</td>\n",
              "      <td>0</td>\n",
              "      <td>3</td>\n",
              "      <td>female</td>\n",
              "      <td>29.699118</td>\n",
              "      <td>1</td>\n",
              "      <td>2</td>\n",
              "      <td>W./C. 6607</td>\n",
              "      <td>23.4500</td>\n",
              "      <td>S</td>\n",
              "    </tr>\n",
              "    <tr>\n",
              "      <th>889</th>\n",
              "      <td>890</td>\n",
              "      <td>1</td>\n",
              "      <td>1</td>\n",
              "      <td>male</td>\n",
              "      <td>26.000000</td>\n",
              "      <td>0</td>\n",
              "      <td>0</td>\n",
              "      <td>111369</td>\n",
              "      <td>30.0000</td>\n",
              "      <td>C</td>\n",
              "    </tr>\n",
              "    <tr>\n",
              "      <th>890</th>\n",
              "      <td>891</td>\n",
              "      <td>0</td>\n",
              "      <td>3</td>\n",
              "      <td>male</td>\n",
              "      <td>32.000000</td>\n",
              "      <td>0</td>\n",
              "      <td>0</td>\n",
              "      <td>370376</td>\n",
              "      <td>7.7500</td>\n",
              "      <td>Q</td>\n",
              "    </tr>\n",
              "  </tbody>\n",
              "</table>\n",
              "<p>891 rows × 10 columns</p>\n",
              "</div>"
            ],
            "text/plain": [
              "     PassengerId  Survived  Pclass  ...            Ticket     Fare  Embarked\n",
              "0              1         0       3  ...         A/5 21171   7.2500         S\n",
              "1              2         1       1  ...          PC 17599  71.2833         C\n",
              "2              3         1       3  ...  STON/O2. 3101282   7.9250         S\n",
              "3              4         1       1  ...            113803  53.1000         S\n",
              "4              5         0       3  ...            373450   8.0500         S\n",
              "..           ...       ...     ...  ...               ...      ...       ...\n",
              "886          887         0       2  ...            211536  13.0000         S\n",
              "887          888         1       1  ...            112053  30.0000         S\n",
              "888          889         0       3  ...        W./C. 6607  23.4500         S\n",
              "889          890         1       1  ...            111369  30.0000         C\n",
              "890          891         0       3  ...            370376   7.7500         Q\n",
              "\n",
              "[891 rows x 10 columns]"
            ]
          },
          "metadata": {},
          "execution_count": 221
        }
      ]
    },
    {
      "cell_type": "code",
      "metadata": {
        "id": "GcKs-BWmy8J_"
      },
      "source": [
        "from sklearn.preprocessing import LabelEncoder\n",
        "le=LabelEncoder()"
      ],
      "execution_count": 222,
      "outputs": []
    },
    {
      "cell_type": "code",
      "metadata": {
        "id": "S-jEnKdGyyTI"
      },
      "source": [
        "for i in train:\n",
        "  if train[i].dtypes==object :\n",
        "    train[i]=le.fit_transform(train[i])\n",
        "  else:\n",
        "    pass"
      ],
      "execution_count": 223,
      "outputs": []
    },
    {
      "cell_type": "code",
      "metadata": {
        "id": "FY-KJhOn0WV7"
      },
      "source": [
        "for i in test:\n",
        "  if test[i].dtypes==object :\n",
        "    test[i]=le.fit_transform(test[i])\n",
        "  else:\n",
        "    pass"
      ],
      "execution_count": 224,
      "outputs": []
    },
    {
      "cell_type": "code",
      "metadata": {
        "id": "S7OdFPO3zJhJ"
      },
      "source": [
        "train.drop(['Survived'],inplace=True,axis=1)"
      ],
      "execution_count": 225,
      "outputs": []
    },
    {
      "cell_type": "code",
      "metadata": {
        "id": "6SUijmVQzN63"
      },
      "source": [
        "xtrain=train"
      ],
      "execution_count": 226,
      "outputs": []
    },
    {
      "cell_type": "code",
      "metadata": {
        "colab": {
          "base_uri": "https://localhost:8080/"
        },
        "id": "LTYBVg9EzeI4",
        "outputId": "54a806a9-9c6a-44c6-9852-fdaecd193099"
      },
      "source": [
        "from sklearn.ensemble import RandomForestClassifier\n",
        "rfc=RandomForestClassifier(n_estimators=100,random_state=0,criterion='entropy')\n",
        "rfc.fit(xtrain,ytrain)"
      ],
      "execution_count": 227,
      "outputs": [
        {
          "output_type": "execute_result",
          "data": {
            "text/plain": [
              "RandomForestClassifier(bootstrap=True, ccp_alpha=0.0, class_weight=None,\n",
              "                       criterion='entropy', max_depth=None, max_features='auto',\n",
              "                       max_leaf_nodes=None, max_samples=None,\n",
              "                       min_impurity_decrease=0.0, min_impurity_split=None,\n",
              "                       min_samples_leaf=1, min_samples_split=2,\n",
              "                       min_weight_fraction_leaf=0.0, n_estimators=100,\n",
              "                       n_jobs=None, oob_score=False, random_state=0, verbose=0,\n",
              "                       warm_start=False)"
            ]
          },
          "metadata": {},
          "execution_count": 227
        }
      ]
    },
    {
      "cell_type": "code",
      "metadata": {
        "id": "6tgW8cNIzjNQ"
      },
      "source": [
        "pred=rfc.predict(test)"
      ],
      "execution_count": 228,
      "outputs": []
    },
    {
      "cell_type": "code",
      "metadata": {
        "colab": {
          "base_uri": "https://localhost:8080/"
        },
        "id": "Tf-Vozcq109a",
        "outputId": "b0e70903-2185-409f-b333-b45cfd7d9999"
      },
      "source": [
        "test_id"
      ],
      "execution_count": 229,
      "outputs": [
        {
          "output_type": "execute_result",
          "data": {
            "text/plain": [
              "0       892\n",
              "1       893\n",
              "2       894\n",
              "3       895\n",
              "4       896\n",
              "       ... \n",
              "413    1305\n",
              "414    1306\n",
              "415    1307\n",
              "416    1308\n",
              "417    1309\n",
              "Name: PassengerId, Length: 418, dtype: int64"
            ]
          },
          "metadata": {},
          "execution_count": 229
        }
      ]
    },
    {
      "cell_type": "markdown",
      "metadata": {
        "id": "8p--9mju3cXF"
      },
      "source": [
        "***Prediction of Survival of a passenger in Titanic(Kaggle)***"
      ]
    },
    {
      "cell_type": "code",
      "metadata": {
        "colab": {
          "base_uri": "https://localhost:8080/",
          "height": 419
        },
        "id": "kDIcYC_Bz_CR",
        "outputId": "cc52779e-161f-4466-e1d9-f654c050b92a"
      },
      "source": [
        "output=pd.DataFrame({'PassengerId':test_id,'Survived':pred})\n",
        "output"
      ],
      "execution_count": 232,
      "outputs": [
        {
          "output_type": "execute_result",
          "data": {
            "text/html": [
              "<div>\n",
              "<style scoped>\n",
              "    .dataframe tbody tr th:only-of-type {\n",
              "        vertical-align: middle;\n",
              "    }\n",
              "\n",
              "    .dataframe tbody tr th {\n",
              "        vertical-align: top;\n",
              "    }\n",
              "\n",
              "    .dataframe thead th {\n",
              "        text-align: right;\n",
              "    }\n",
              "</style>\n",
              "<table border=\"1\" class=\"dataframe\">\n",
              "  <thead>\n",
              "    <tr style=\"text-align: right;\">\n",
              "      <th></th>\n",
              "      <th>PassengerId</th>\n",
              "      <th>Survived</th>\n",
              "    </tr>\n",
              "  </thead>\n",
              "  <tbody>\n",
              "    <tr>\n",
              "      <th>0</th>\n",
              "      <td>892</td>\n",
              "      <td>0</td>\n",
              "    </tr>\n",
              "    <tr>\n",
              "      <th>1</th>\n",
              "      <td>893</td>\n",
              "      <td>0</td>\n",
              "    </tr>\n",
              "    <tr>\n",
              "      <th>2</th>\n",
              "      <td>894</td>\n",
              "      <td>0</td>\n",
              "    </tr>\n",
              "    <tr>\n",
              "      <th>3</th>\n",
              "      <td>895</td>\n",
              "      <td>0</td>\n",
              "    </tr>\n",
              "    <tr>\n",
              "      <th>4</th>\n",
              "      <td>896</td>\n",
              "      <td>1</td>\n",
              "    </tr>\n",
              "    <tr>\n",
              "      <th>...</th>\n",
              "      <td>...</td>\n",
              "      <td>...</td>\n",
              "    </tr>\n",
              "    <tr>\n",
              "      <th>413</th>\n",
              "      <td>1305</td>\n",
              "      <td>0</td>\n",
              "    </tr>\n",
              "    <tr>\n",
              "      <th>414</th>\n",
              "      <td>1306</td>\n",
              "      <td>1</td>\n",
              "    </tr>\n",
              "    <tr>\n",
              "      <th>415</th>\n",
              "      <td>1307</td>\n",
              "      <td>0</td>\n",
              "    </tr>\n",
              "    <tr>\n",
              "      <th>416</th>\n",
              "      <td>1308</td>\n",
              "      <td>0</td>\n",
              "    </tr>\n",
              "    <tr>\n",
              "      <th>417</th>\n",
              "      <td>1309</td>\n",
              "      <td>0</td>\n",
              "    </tr>\n",
              "  </tbody>\n",
              "</table>\n",
              "<p>418 rows × 2 columns</p>\n",
              "</div>"
            ],
            "text/plain": [
              "     PassengerId  Survived\n",
              "0            892         0\n",
              "1            893         0\n",
              "2            894         0\n",
              "3            895         0\n",
              "4            896         1\n",
              "..           ...       ...\n",
              "413         1305         0\n",
              "414         1306         1\n",
              "415         1307         0\n",
              "416         1308         0\n",
              "417         1309         0\n",
              "\n",
              "[418 rows x 2 columns]"
            ]
          },
          "metadata": {},
          "execution_count": 232
        }
      ]
    },
    {
      "cell_type": "code",
      "metadata": {
        "colab": {
          "base_uri": "https://localhost:8080/",
          "height": 137
        },
        "id": "BRrChrHk3XLO",
        "outputId": "b555a113-870d-4e60-fd21-406613112a1f"
      },
      "source": [
        "output.to_csv(index=False)"
      ],
      "execution_count": 233,
      "outputs": [
        {
          "output_type": "execute_result",
          "data": {
            "application/vnd.google.colaboratory.intrinsic+json": {
              "type": "string"
            },
            "text/plain": [
              "'PassengerId,Survived\\n892,0\\n893,0\\n894,0\\n895,0\\n896,1\\n897,0\\n898,1\\n899,0\\n900,1\\n901,0\\n902,0\\n903,0\\n904,1\\n905,0\\n906,1\\n907,1\\n908,0\\n909,0\\n910,0\\n911,1\\n912,0\\n913,0\\n914,1\\n915,0\\n916,1\\n917,0\\n918,1\\n919,0\\n920,1\\n921,0\\n922,0\\n923,0\\n924,0\\n925,0\\n926,0\\n927,0\\n928,1\\n929,1\\n930,0\\n931,0\\n932,0\\n933,0\\n934,0\\n935,1\\n936,1\\n937,0\\n938,0\\n939,0\\n940,1\\n941,0\\n942,0\\n943,0\\n944,1\\n945,1\\n946,0\\n947,0\\n948,0\\n949,0\\n950,0\\n951,1\\n952,0\\n953,0\\n954,0\\n955,1\\n956,1\\n957,1\\n958,1\\n959,0\\n960,1\\n961,1\\n962,1\\n963,0\\n964,1\\n965,0\\n966,1\\n967,1\\n968,0\\n969,1\\n970,0\\n971,1\\n972,1\\n973,0\\n974,0\\n975,0\\n976,0\\n977,0\\n978,1\\n979,0\\n980,0\\n981,1\\n982,1\\n983,0\\n984,1\\n985,0\\n986,0\\n987,0\\n988,1\\n989,0\\n990,1\\n991,0\\n992,1\\n993,0\\n994,0\\n995,0\\n996,1\\n997,0\\n998,0\\n999,0\\n1000,0\\n1001,0\\n1002,0\\n1003,1\\n1004,1\\n1005,1\\n1006,1\\n1007,0\\n1008,0\\n1009,1\\n1010,0\\n1011,1\\n1012,1\\n1013,0\\n1014,1\\n1015,0\\n1016,0\\n1017,0\\n1018,0\\n1019,0\\n1020,0\\n1021,0\\n1022,0\\n1023,1\\n1024,0\\n1025,0\\n1026,0\\n1027,0\\n1028,0\\n1029,0\\n1030,0\\n1031,0\\n1032,0\\n1033,1\\n1034,0\\n1035,0\\n1036,1\\n1037,0\\n1038,0\\n1039,0\\n1040,0\\n1041,0\\n1042,1\\n1043,0\\n1044,0\\n1045,0\\n1046,0\\n1047,0\\n1048,1\\n1049,1\\n1050,1\\n1051,0\\n1052,1\\n1053,1\\n1054,1\\n1055,0\\n1056,0\\n1057,1\\n1058,0\\n1059,0\\n1060,1\\n1061,0\\n1062,0\\n1063,0\\n1064,0\\n1065,0\\n1066,0\\n1067,1\\n1068,1\\n1069,1\\n1070,1\\n1071,1\\n1072,0\\n1073,0\\n1074,1\\n1075,0\\n1076,1\\n1077,0\\n1078,1\\n1079,0\\n1080,0\\n1081,0\\n1082,0\\n1083,0\\n1084,0\\n1085,0\\n1086,1\\n1087,0\\n1088,1\\n1089,1\\n1090,0\\n1091,0\\n1092,0\\n1093,1\\n1094,0\\n1095,1\\n1096,0\\n1097,0\\n1098,0\\n1099,0\\n1100,1\\n1101,0\\n1102,0\\n1103,0\\n1104,0\\n1105,1\\n1106,1\\n1107,0\\n1108,1\\n1109,0\\n1110,1\\n1111,0\\n1112,1\\n1113,0\\n1114,1\\n1115,0\\n1116,1\\n1117,1\\n1118,0\\n1119,0\\n1120,0\\n1121,0\\n1122,0\\n1123,1\\n1124,0\\n1125,0\\n1126,0\\n1127,0\\n1128,1\\n1129,0\\n1130,1\\n1131,1\\n1132,1\\n1133,1\\n1134,0\\n1135,0\\n1136,0\\n1137,0\\n1138,1\\n1139,0\\n1140,1\\n1141,1\\n1142,1\\n1143,0\\n1144,1\\n1145,0\\n1146,0\\n1147,0\\n1148,0\\n1149,0\\n1150,1\\n1151,0\\n1152,0\\n1153,0\\n1154,1\\n1155,1\\n1156,0\\n1157,0\\n1158,0\\n1159,0\\n1160,0\\n1161,0\\n1162,1\\n1163,0\\n1164,1\\n1165,0\\n1166,0\\n1167,1\\n1168,0\\n1169,0\\n1170,0\\n1171,0\\n1172,1\\n1173,1\\n1174,0\\n1175,1\\n1176,1\\n1177,0\\n1178,0\\n1179,1\\n1180,0\\n1181,0\\n1182,0\\n1183,1\\n1184,0\\n1185,0\\n1186,0\\n1187,0\\n1188,1\\n1189,0\\n1190,0\\n1191,0\\n1192,0\\n1193,0\\n1194,0\\n1195,0\\n1196,0\\n1197,1\\n1198,1\\n1199,1\\n1200,0\\n1201,0\\n1202,0\\n1203,0\\n1204,0\\n1205,0\\n1206,1\\n1207,1\\n1208,0\\n1209,0\\n1210,0\\n1211,0\\n1212,0\\n1213,0\\n1214,0\\n1215,0\\n1216,1\\n1217,0\\n1218,1\\n1219,0\\n1220,0\\n1221,0\\n1222,1\\n1223,0\\n1224,0\\n1225,1\\n1226,0\\n1227,0\\n1228,0\\n1229,0\\n1230,0\\n1231,0\\n1232,0\\n1233,0\\n1234,0\\n1235,1\\n1236,0\\n1237,1\\n1238,0\\n1239,1\\n1240,0\\n1241,1\\n1242,1\\n1243,0\\n1244,0\\n1245,0\\n1246,1\\n1247,1\\n1248,1\\n1249,0\\n1250,0\\n1251,0\\n1252,0\\n1253,1\\n1254,1\\n1255,0\\n1256,1\\n1257,0\\n1258,0\\n1259,1\\n1260,1\\n1261,0\\n1262,0\\n1263,1\\n1264,0\\n1265,0\\n1266,1\\n1267,1\\n1268,1\\n1269,0\\n1270,0\\n1271,0\\n1272,0\\n1273,0\\n1274,0\\n1275,0\\n1276,0\\n1277,1\\n1278,0\\n1279,0\\n1280,0\\n1281,0\\n1282,0\\n1283,1\\n1284,0\\n1285,0\\n1286,0\\n1287,1\\n1288,0\\n1289,1\\n1290,0\\n1291,0\\n1292,1\\n1293,0\\n1294,1\\n1295,0\\n1296,0\\n1297,0\\n1298,0\\n1299,0\\n1300,1\\n1301,1\\n1302,0\\n1303,1\\n1304,1\\n1305,0\\n1306,1\\n1307,0\\n1308,0\\n1309,0\\n'"
            ]
          },
          "metadata": {},
          "execution_count": 233
        }
      ]
    }
  ]
}